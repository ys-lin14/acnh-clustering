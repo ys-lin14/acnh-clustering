{
 "cells": [
  {
   "cell_type": "code",
   "execution_count": 1,
   "metadata": {},
   "outputs": [],
   "source": [
    "# Dynamic time warping, networkx graph\n",
    "    # class containing\n",
    "        # trend id, prices, nearest neighbor, distance to nearest neighbor \n",
    "        # if trend has all distance matrices computed, pop to reduce calculations\n",
    "# dimensionality reduction using pca, t-sne\n",
    "# data generation, cnn"
   ]
  },
  {
   "cell_type": "code",
   "execution_count": 26,
   "metadata": {},
   "outputs": [],
   "source": [
    "import numpy as np\n",
    "import matplotlib.pyplot as plt\n",
    "import pandas as pd\n",
    "import sqlalchemy\n",
    "import time\n",
    "\n",
    "from dtaidistance import dtw\n",
    "\n",
    "from database_credentials import get_database_url\n",
    "from load_transform import load_transform_combine, pivot"
   ]
  },
  {
   "cell_type": "code",
   "execution_count": 3,
   "metadata": {},
   "outputs": [],
   "source": [
    "database_url = get_database_url()\n",
    "engine = sqlalchemy.create_engine(database_url)\n",
    "connection = engine.connect()"
   ]
  },
  {
   "cell_type": "code",
   "execution_count": 4,
   "metadata": {},
   "outputs": [],
   "source": [
    "sell_data = load_transform_combine(4, connection)\n",
    "sell_data = pivot(sell_data)\n",
    "trends = sell_data.to_numpy()"
   ]
  },
  {
   "cell_type": "code",
   "execution_count": 34,
   "metadata": {},
   "outputs": [],
   "source": [
    "num_trends = trends.shape[0]\n",
    "distances = np.zeros((num_trends, num_trends))\n",
    "\n",
    "for x, y in np.ndindex(distances.shape):\n",
    "    if (x > y):\n",
    "        distance = dtw.distance(trends[x], trends[y])\n",
    "        distances[x][y] = distance\n",
    "        \n",
    "        # mirror along diagonal to reduce computation time\n",
    "        distances[y][x] = distance \n",
    "        \n",
    "# fill diagonal so the most similar sequence is not itself\n",
    "np.fill_diagonal(distances, np.inf) "
   ]
  },
  {
   "cell_type": "code",
   "execution_count": null,
   "metadata": {},
   "outputs": [],
   "source": [
    "# row index, distance"
   ]
  }
 ],
 "metadata": {
  "kernelspec": {
   "display_name": "Python 3",
   "language": "python",
   "name": "python3"
  },
  "language_info": {
   "codemirror_mode": {
    "name": "ipython",
    "version": 3
   },
   "file_extension": ".py",
   "mimetype": "text/x-python",
   "name": "python",
   "nbconvert_exporter": "python",
   "pygments_lexer": "ipython3",
   "version": "3.6.6"
  }
 },
 "nbformat": 4,
 "nbformat_minor": 2
}
