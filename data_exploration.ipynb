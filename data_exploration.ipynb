{
 "cells": [
  {
   "cell_type": "code",
   "execution_count": 1,
   "metadata": {},
   "outputs": [],
   "source": [
    "import matplotlib.pyplot as plt\n",
    "import numpy as np\n",
    "import pandas as pd\n",
    "import seaborn as sns\n",
    "import sqlalchemy\n",
    "\n",
    "from database_credentials import get_database_url\n",
    "from datetime import datetime, timedelta"
   ]
  },
  {
   "cell_type": "code",
   "execution_count": 2,
   "metadata": {},
   "outputs": [],
   "source": [
    "plt.style.use('ggplot')\n",
    "sns.set_style('white')"
   ]
  },
  {
   "cell_type": "code",
   "execution_count": 3,
   "metadata": {},
   "outputs": [],
   "source": [
    "database_url = get_database_url()\n",
    "engine = sqlalchemy.create_engine(database_url)\n",
    "connection = engine.connect()"
   ]
  },
  {
   "cell_type": "code",
   "execution_count": 4,
   "metadata": {},
   "outputs": [],
   "source": [
    "buy_data = pd.read_sql_table('buy_data', connection)\n",
    "sell_data = pd.read_sql_table('sell_data', connection)"
   ]
  },
  {
   "cell_type": "code",
   "execution_count": 39,
   "metadata": {},
   "outputs": [
    {
     "data": {
      "image/png": "[encoded data removed]",
      "text/plain": [
       "<Figure size 432x288 with 1 Axes>"
      ]
     },
     "metadata": {},
     "output_type": "display_data"
    },
    {
     "name": "stdout",
     "output_type": "stream",
     "text": [
      "Buying Prices Description:\n",
      "count    142.000000\n",
      "mean      99.718310\n",
      "std        6.612224\n",
      "min       90.000000\n",
      "25%       94.250000\n",
      "50%       99.000000\n",
      "75%      106.000000\n",
      "max      114.000000\n",
      "Name: price, dtype: float64\n",
      "\n"
     ]
    },
    {
     "data": {
      "image/png": "[encoded data removed]",
      "text/plain": [
       "<Figure size 432x288 with 1 Axes>"
      ]
     },
     "metadata": {},
     "output_type": "display_data"
    },
    {
     "name": "stdout",
     "output_type": "stream",
     "text": [
      "Selling Prices:\n",
      "count    1079.000000\n",
      "mean      100.400371\n",
      "std        60.777134\n",
      "min        17.000000\n",
      "25%        65.000000\n",
      "50%        86.000000\n",
      "75%       125.000000\n",
      "98%       203.880000\n",
      "max       589.000000\n",
      "Name: price, dtype: float64\n",
      "\n"
     ]
    }
   ],
   "source": [
    "buy_prices = buy_data['price']\n",
    "buy_price_describe = buy_prices.describe()\n",
    "buy_min = buy_price_describe['min']\n",
    "buy_max = buy_price_describe['max']\n",
    "\n",
    "sns.distplot(buy_prices, bins=24, kde=False)\n",
    "plt.xlim(buy_min, buy_max)\n",
    "plt.show()\n",
    "print(\"Buying Prices Description:\\n{0}\\n\".format(buy_price_describe))\n",
    "\n",
    "sell_prices = sell_data['price']\n",
    "sell_percentiles = [0.25, 0.50, 0.75, 0.98]\n",
    "sell_price_describe = sell_prices.describe(percentiles=sell_percentiles)\n",
    "sell_min = sell_price_describe['min']\n",
    "sell_98_percentile = sell_price_describe['98%']\n",
    "\n",
    "sns.distplot(sell_prices, kde=False)\n",
    "plt.xlim(sell_min, sell_98_percentile)\n",
    "plt.show()\n",
    "print(\"Selling Prices:\\n{0}\\n\".format(sell_price_describe))"
   ]
  },
  {
   "cell_type": "code",
   "execution_count": null,
   "metadata": {},
   "outputs": [],
   "source": [
    "sell_data_pivot = pd.pivot_table(\n",
    "    sell_data, \n",
    "    values='price', \n",
    "    index=['user_id', 'island_id'], \n",
    "    columns=['datetime_observed']\n",
    ")\n",
    "display(sell_data_pivot.head(3))"
   ]
  },
  {
   "cell_type": "code",
   "execution_count": null,
   "metadata": {},
   "outputs": [],
   "source": [
    "sell_data['user_island_id'] = list(zip(sell_data['user_id'], sell_data['island_id']))\n",
    "plt.figure(figsize=(12, 6))\n",
    "sns.lineplot(x='datetime_observed', y='price', data=sell_data, hue='user_island_id', legend=False)\n",
    "plt.show()"
   ]
  },
  {
   "cell_type": "code",
   "execution_count": null,
   "metadata": {},
   "outputs": [],
   "source": [
    "query = '''\n",
    "    SELECT *\n",
    "    FROM sell_data\n",
    "    WHERE datetime_observed < '2020-04-19'\n",
    "'''\n",
    "week1_sell_data = pd.read_sql(query, connection)\n",
    "\n",
    "query2 = '''\n",
    "    SELECT *\n",
    "    FROM sell_data\n",
    "    WHERE datetime_observed > '2020-04-19'\n",
    "'''\n",
    "week2_sell_data = pd.read_sql(query2, connection)"
   ]
  },
  {
   "cell_type": "code",
   "execution_count": null,
   "metadata": {},
   "outputs": [],
   "source": [
    "week1_sell_data"
   ]
  },
  {
   "cell_type": "code",
   "execution_count": null,
   "metadata": {},
   "outputs": [],
   "source": [
    "connection.close()\n",
    "engine.dispose()"
   ]
  }
 ],
 "metadata": {
  "kernelspec": {
   "display_name": "Python 3",
   "language": "python",
   "name": "python3"
  },
  "language_info": {
   "codemirror_mode": {
    "name": "ipython",
    "version": 3
   },
   "file_extension": ".py",
   "mimetype": "text/x-python",
   "name": "python",
   "nbconvert_exporter": "python",
   "pygments_lexer": "ipython3",
   "version": "3.6.6"
  }
 },
 "nbformat": 4,
 "nbformat_minor": 2
}
